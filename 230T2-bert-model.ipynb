{
 "cells": [
  {
   "cell_type": "markdown",
   "metadata": {},
   "source": [
    "# BERT Model training, performance evaluation and sentiment prediction\n",
    "### 230T2 - Megha Raveendran, Renee Reynolds, Derui Chen, Loïc Diridollou, Shiva Kandi"
   ]
  },
  {
   "cell_type": "code",
   "execution_count": null,
   "metadata": {
    "colab": {},
    "colab_type": "code",
    "id": "46AeYe4HG89m"
   },
   "outputs": [],
   "source": [
    "import os\n",
    "import re\n",
    "from tqdm import tqdm\n",
    "import numpy as np\n",
    "import pandas as pd\n",
    "import matplotlib.pyplot as plt\n",
    "from sklearn.model_selection import train_test_split\n",
    "from transformers import BertTokenizer\n",
    "\n",
    "%matplotlib inline"
   ]
  },
  {
   "cell_type": "code",
   "execution_count": null,
   "metadata": {},
   "outputs": [],
   "source": [
    "import torch\n",
    "\n",
    "if torch.cuda.is_available():       \n",
    "    device = torch.device(\"cuda\")\n",
    "    print(f'There are {torch.cuda.device_count()} GPU(s) available.')\n",
    "    print('Device name:', torch.cuda.get_device_name(0))\n",
    "\n",
    "else:\n",
    "    print('No GPU available, using the CPU instead.')\n",
    "    device = torch.device(\"cpu\")"
   ]
  },
  {
   "cell_type": "markdown",
   "metadata": {
    "colab": {
     "base_uri": "https://localhost:8080/",
     "height": 72,
     "resources": {
      "http://localhost:8080/nbextensions/google.colab/files.js": {
       "data": "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",
       "headers": [
        [
         "content-type",
         "application/javascript"
        ]
       ],
       "ok": true,
       "status": 200,
       "status_text": ""
      }
     }
    },
    "colab_type": "code",
    "id": "fk-4Di6RQFch",
    "outputId": "bed87f10-07d9-4994-f10e-2668517403fa"
   },
   "source": [
    "# Importing the data and splitting the dataset"
   ]
  },
  {
   "cell_type": "code",
   "execution_count": null,
   "metadata": {
    "colab": {},
    "colab_type": "code",
    "id": "CkqCy5DkQzbE"
   },
   "outputs": [],
   "source": [
    "new_df1 = pd.read_csv(\"list_titles.csv\")"
   ]
  },
  {
   "cell_type": "code",
   "execution_count": null,
   "metadata": {
    "colab": {},
    "colab_type": "code",
    "id": "4A_9PQR3RGOe"
   },
   "outputs": [],
   "source": [
    "new_df1.drop('Unnamed: 0', axis = 1, inplace = True)\n",
    "new_df1 = new_df1.loc[:80000]\n",
    "new_df1 = new_df1.sample(frac = 1, random_state = np.random.RandomState(42))"
   ]
  },
  {
   "cell_type": "code",
   "execution_count": null,
   "metadata": {
    "colab": {},
    "colab_type": "code",
    "id": "8ECIEPf5R9ZM"
   },
   "outputs": [],
   "source": [
    "new_df1['label'] = new_df1['Return'].apply(lambda x: 1 if x>0 else 0)"
   ]
  },
  {
   "cell_type": "code",
   "execution_count": null,
   "metadata": {
    "colab": {},
    "colab_type": "code",
    "id": "imXxf4nLHFii"
   },
   "outputs": [],
   "source": [
    "X = new_df.Title.values\n",
    "y = new_df.label.values\n",
    "\n",
    "X_train, X_val, y_train, y_val =\\\n",
    "    train_test_split(X, y, test_size=0.1, random_state=42)"
   ]
  },
  {
   "cell_type": "code",
   "execution_count": null,
   "metadata": {
    "colab": {},
    "colab_type": "code",
    "id": "twirEBPMHIrb"
   },
   "outputs": [],
   "source": [
    "test_data = new_df1.loc[80000:]"
   ]
  },
  {
   "cell_type": "code",
   "execution_count": null,
   "metadata": {
    "colab": {},
    "colab_type": "code",
    "id": "pSdnQqEQHWg7"
   },
   "outputs": [],
   "source": [
    "def text_preprocessing(text):\n",
    "    \"\"\"\n",
    "    - Remove entity mentions (eg. '@united')\n",
    "    - Correct errors (eg. '&amp;' to '&')\n",
    "    @param    text (str): a string to be processed.\n",
    "    @return   text (Str): the processed string.\n",
    "    \"\"\"\n",
    "    # Remove '@name'\n",
    "    text = re.sub(r'(@.*?)[\\s]', ' ', text)\n",
    "\n",
    "    # Replace '&amp;' with '&'\n",
    "    text = re.sub(r'&amp;', '&', text)\n",
    "\n",
    "    # Remove trailing whitespace\n",
    "    text = re.sub(r'\\s+', ' ', text).strip()\n",
    "\n",
    "    return text"
   ]
  },
  {
   "cell_type": "code",
   "execution_count": null,
   "metadata": {
    "colab": {
     "base_uri": "https://localhost:8080/",
     "height": 51
    },
    "colab_type": "code",
    "id": "YlGJaDEQHduZ",
    "outputId": "c204076e-3bee-439f-a6c1-96254322befb"
   },
   "outputs": [
    {
     "name": "stdout",
     "output_type": "stream",
     "text": [
      "Original:   One in 10 home loans is under water: Economy.com \n",
      "Processed:  One in 10 home loans is under water: Economy.com\n"
     ]
    }
   ],
   "source": [
    "# Print sentence 0\n",
    "print('Original: ', X[0])\n",
    "print('Processed: ', text_preprocessing(X[0]))"
   ]
  },
  {
   "cell_type": "code",
   "execution_count": null,
   "metadata": {
    "colab": {
     "base_uri": "https://localhost:8080/",
     "height": 66,
     "referenced_widgets": [
      "cc2ee7915e67445a95869032a6f05486",
      "2dfee3a66a514535abbb9571d58af6ea",
      "4d55f5bb07a04b3aa8251c9833ac5cf6",
      "cdd68f07da6745c0b0b33443f56d7a1a",
      "fdb9ca8200704b78b2ac8e27593eb41f",
      "45e03494921c478c80a777c1d086aafd",
      "40412089025441a0acad85694425d463",
      "eef20db043674a878c70fb7846606358"
     ]
    },
    "colab_type": "code",
    "id": "sRjS2goJHfEE",
    "outputId": "9cb91c8c-4305-4310-f82d-067a36bb1371"
   },
   "outputs": [
    {
     "data": {
      "application/vnd.jupyter.widget-view+json": {
       "model_id": "cc2ee7915e67445a95869032a6f05486",
       "version_major": 2,
       "version_minor": 0
      },
      "text/plain": [
       "HBox(children=(FloatProgress(value=0.0, description='Downloading', max=231508.0, style=ProgressStyle(descripti…"
      ]
     },
     "metadata": {
      "tags": []
     },
     "output_type": "display_data"
    },
    {
     "name": "stdout",
     "output_type": "stream",
     "text": [
      "\n"
     ]
    }
   ],
   "source": [
    "# Load the BERT tokenizer\n",
    "tokenizer = BertTokenizer.from_pretrained('bert-base-uncased', do_lower_case=True)\n",
    "\n",
    "# Create a function to tokenize a set of texts\n",
    "def preprocessing_for_bert(data):\n",
    "    \"\"\"Perform required preprocessing steps for pretrained BERT.\n",
    "    @param    data (np.array): Array of texts to be processed.\n",
    "    @return   input_ids (torch.Tensor): Tensor of token ids to be fed to a model.\n",
    "    @return   attention_masks (torch.Tensor): Tensor of indices specifying which\n",
    "                  tokens should be attended to by the model.\n",
    "    \"\"\"\n",
    "    # Create empty lists to store outputs\n",
    "    input_ids = []\n",
    "    attention_masks = []\n",
    "\n",
    "    # For every sentence\n",
    "    for sent in data:\n",
    "        encoded_sent = tokenizer.encode_plus(\n",
    "            text=text_preprocessing(sent), add_special_tokens=True, max_length=MAX_LEN,             \n",
    "            pad_to_max_length=True, truncation = True, return_attention_mask=True)\n",
    "        \n",
    "        input_ids.append(encoded_sent.get('input_ids'))\n",
    "        attention_masks.append(encoded_sent.get('attention_mask'))\n",
    "\n",
    "    input_ids = torch.tensor(input_ids)\n",
    "    attention_masks = torch.tensor(attention_masks)\n",
    "\n",
    "    return input_ids, attention_masks"
   ]
  },
  {
   "cell_type": "code",
   "execution_count": null,
   "metadata": {
    "colab": {
     "base_uri": "https://localhost:8080/",
     "height": 34
    },
    "colab_type": "code",
    "id": "xgrDA56EHhQ-",
    "outputId": "497ac8c0-bfee-42d7-c015-7c9010f96bfb"
   },
   "outputs": [
    {
     "name": "stdout",
     "output_type": "stream",
     "text": [
      "Max length:  25\n"
     ]
    }
   ],
   "source": [
    "all_headlines = new_df.Title\n",
    "\n",
    "# Encode our concatenated data\n",
    "encoded_headlines = [tokenizer.encode(sent, add_special_tokens=True) for sent in all_headlines]\n",
    "\n",
    "# Find the maximum length\n",
    "max_len = max([len(sent) for sent in encoded_headlines])\n",
    "print('Max length: ', max_len)"
   ]
  },
  {
   "cell_type": "code",
   "execution_count": null,
   "metadata": {
    "colab": {
     "base_uri": "https://localhost:8080/",
     "height": 88
    },
    "colab_type": "code",
    "id": "E4I9USdMHo-X",
    "outputId": "756ceb81-776b-43c0-a96d-af1c72a096cd"
   },
   "outputs": [
    {
     "name": "stdout",
     "output_type": "stream",
     "text": [
      "Original:   One in 10 home loans is under water: Economy.com \n",
      "Token IDs:  [101, 2028, 1999, 2184, 2188, 10940, 2003, 2104, 2300, 1024, 4610, 1012, 4012, 102, 0, 0, 0, 0, 0, 0, 0, 0, 0, 0, 0, 0, 0, 0, 0, 0, 0, 0, 0, 0, 0, 0, 0, 0, 0, 0, 0, 0, 0, 0, 0, 0, 0, 0, 0, 0, 0, 0, 0, 0, 0, 0, 0, 0, 0, 0, 0, 0, 0, 0]\n",
      "Tokenizing data...\n"
     ]
    }
   ],
   "source": [
    "# Specify `MAX_LEN`\n",
    "MAX_LEN = 64\n",
    "\n",
    "token_ids = list(preprocessing_for_bert([X[0]])[0].squeeze().numpy())\n",
    "print('Original: ', X[0])\n",
    "print('Token IDs: ', token_ids)\n",
    "\n",
    "print('Tokenizing data...')\n",
    "train_inputs, train_masks = preprocessing_for_bert(X_train)\n",
    "val_inputs, val_masks = preprocessing_for_bert(X_val)"
   ]
  },
  {
   "cell_type": "code",
   "execution_count": null,
   "metadata": {
    "colab": {},
    "colab_type": "code",
    "id": "Iy1NPWiIHrgG"
   },
   "outputs": [],
   "source": [
    "from torch.utils.data import TensorDataset, DataLoader, RandomSampler, SequentialSampler\n",
    "\n",
    "train_labels = torch.tensor(y_train)\n",
    "val_labels = torch.tensor(y_val)\n",
    "\n",
    "batch_size = 32\n",
    "\n",
    "train_data = TensorDataset(train_inputs, train_masks, train_labels)\n",
    "train_sampler = RandomSampler(train_data)\n",
    "train_dataloader = DataLoader(train_data, sampler=train_sampler, batch_size=batch_size)\n",
    "\n",
    "val_data = TensorDataset(val_inputs, val_masks, val_labels)\n",
    "val_sampler = SequentialSampler(val_data)\n",
    "val_dataloader = DataLoader(val_data, sampler=val_sampler, batch_size=batch_size)"
   ]
  },
  {
   "cell_type": "code",
   "execution_count": null,
   "metadata": {
    "colab": {
     "base_uri": "https://localhost:8080/",
     "height": 51
    },
    "colab_type": "code",
    "id": "dkLvRzWHHvCs",
    "outputId": "d39de797-7ce6-43b0-e28c-170611a3ff24"
   },
   "outputs": [
    {
     "name": "stdout",
     "output_type": "stream",
     "text": [
      "CPU times: user 64 µs, sys: 0 ns, total: 64 µs\n",
      "Wall time: 67.9 µs\n"
     ]
    }
   ],
   "source": [
    "%%time\n",
    "import torch\n",
    "import torch.nn as nn\n",
    "from transformers import BertModel\n",
    "\n",
    "# Create the BertClassfier class\n",
    "class BertClassifier(nn.Module):\n",
    "    \"\"\"Bert Model for Classification Tasks.\n",
    "    \"\"\"\n",
    "    def __init__(self, freeze_bert=False):\n",
    "        \"\"\"\n",
    "        @param    bert: a BertModel object\n",
    "        @param    classifier: a torch.nn.Module classifier\n",
    "        @param    freeze_bert (bool): Set `False` to fine-tune the BERT model\n",
    "        \"\"\"\n",
    "        super(BertClassifier, self).__init__()\n",
    "        # Specify hidden size of BERT, hidden size of our classifier, and number of labels\n",
    "        D_in, H, D_out = 768, 50, 2\n",
    "\n",
    "        # Instantiate BERT model\n",
    "        self.bert = BertModel.from_pretrained('bert-base-uncased')\n",
    "\n",
    "        # Instantiate an one-layer feed-forward classifier\n",
    "        self.classifier = nn.Sequential(\n",
    "            nn.Linear(D_in, H),\n",
    "            nn.ReLU(),\n",
    "            #nn.Dropout(0.5),\n",
    "            nn.Linear(H, D_out)\n",
    "        )\n",
    "\n",
    "        # Freeze the BERT model\n",
    "        if freeze_bert:\n",
    "            for param in self.bert.parameters():\n",
    "                param.requires_grad = False\n",
    "        \n",
    "    def forward(self, input_ids, attention_mask):\n",
    "        \"\"\"\n",
    "        Feed input to BERT and the classifier to compute logits.\n",
    "        @param    input_ids (torch.Tensor): an input tensor with shape (batch_size,\n",
    "                      max_length)\n",
    "        @param    attention_mask (torch.Tensor): a tensor that hold attention mask\n",
    "                      information with shape (batch_size, max_length)\n",
    "        @return   logits (torch.Tensor): an output tensor with shape (batch_size,\n",
    "                      num_labels)\n",
    "        \"\"\"\n",
    "        # Feed input to BERT\n",
    "        outputs = self.bert(input_ids=input_ids,\n",
    "                            attention_mask=attention_mask)\n",
    "        \n",
    "        # Extract the last hidden state of the token `[CLS]` for classification task\n",
    "        last_hidden_state_cls = outputs[0][:, 0, :]\n",
    "\n",
    "        # Feed input to classifier to compute logits\n",
    "        logits = self.classifier(last_hidden_state_cls)\n",
    "\n",
    "        return logits"
   ]
  },
  {
   "cell_type": "code",
   "execution_count": null,
   "metadata": {
    "colab": {},
    "colab_type": "code",
    "id": "zaPJS2moHxjc"
   },
   "outputs": [],
   "source": [
    "from transformers import AdamW, get_linear_schedule_with_warmup\n",
    "\n",
    "def initialize_model(epochs=4):\n",
    "    \"\"\"Initialize the Bert Classifier, the optimizer and the learning rate scheduler.\n",
    "    \"\"\"\n",
    "    # Instantiate Bert Classifier\n",
    "    bert_classifier = BertClassifier(freeze_bert=False)\n",
    "\n",
    "    # Tell PyTorch to run the model on GPU\n",
    "    bert_classifier.to(device)\n",
    "\n",
    "    # Create the optimizer\n",
    "    optimizer = AdamW(bert_classifier.parameters(),\n",
    "                      lr=5e-5,    # Default learning rate\n",
    "                      eps=1e-8    # Default epsilon value\n",
    "                      )\n",
    "\n",
    "    # Total number of training steps\n",
    "    total_steps = len(train_dataloader) * epochs\n",
    "\n",
    "    # Set up the learning rate scheduler\n",
    "    scheduler = get_linear_schedule_with_warmup(optimizer,\n",
    "                                                num_warmup_steps=0, # Default value\n",
    "                                                num_training_steps=total_steps)\n",
    "    return bert_classifier, optimizer, scheduler"
   ]
  },
  {
   "cell_type": "code",
   "execution_count": null,
   "metadata": {
    "colab": {},
    "colab_type": "code",
    "id": "0rgKZB_gHzjG"
   },
   "outputs": [],
   "source": [
    "import random\n",
    "import time\n",
    "\n",
    "# Specify loss function\n",
    "loss_fn = nn.CrossEntropyLoss()\n",
    "\n",
    "def set_seed(seed_value=42):\n",
    "    \"\"\"Set seed for reproducibility.\n",
    "    \"\"\"\n",
    "    random.seed(seed_value)\n",
    "    np.random.seed(seed_value)\n",
    "    torch.manual_seed(seed_value)\n",
    "    torch.cuda.manual_seed_all(seed_value)\n",
    "\n",
    "def train(model, train_dataloader, val_dataloader=None, epochs=4, evaluation=False):\n",
    "    \"\"\"Train the BertClassifier model.\n",
    "    \"\"\"\n",
    "    # Start training loop\n",
    "    print(\"Start training...\\n\")\n",
    "    for epoch_i in range(epochs):\n",
    "        # =======================================\n",
    "        #               Training\n",
    "        # =======================================\n",
    "        # Print the header of the result table\n",
    "        print(f\"{'Epoch':^7} | {'Batch':^7} | {'Train Loss':^12} | {'Val Loss':^10} | {'Val Acc':^9} | {'Elapsed':^9}\")\n",
    "        print(\"-\"*70)\n",
    "\n",
    "        # Measure the elapsed time of each epoch\n",
    "        t0_epoch, t0_batch = time.time(), time.time()\n",
    "\n",
    "        # Reset tracking variables at the beginning of each epoch\n",
    "        total_loss, batch_loss, batch_counts = 0, 0, 0\n",
    "\n",
    "        # Put the model into the training mode\n",
    "        model.train()\n",
    "\n",
    "        # For each batch of training data...\n",
    "        for step, batch in enumerate(train_dataloader):\n",
    "            batch_counts +=1\n",
    "            # Load batch to GPU\n",
    "            b_input_ids, b_attn_mask, b_labels = tuple(t.to(device) for t in batch)\n",
    "\n",
    "            # Zero out any previously calculated gradients\n",
    "            model.zero_grad()\n",
    "\n",
    "            # Perform a forward pass. This will return logits.\n",
    "            logits = model(b_input_ids, b_attn_mask)\n",
    "\n",
    "            # Compute loss and accumulate the loss values\n",
    "            loss = loss_fn(logits, b_labels)\n",
    "            batch_loss += loss.item()\n",
    "            total_loss += loss.item()\n",
    "\n",
    "            # Perform a backward pass to calculate gradients\n",
    "            loss.backward()\n",
    "\n",
    "            # Clip the norm of the gradients to 1.0 to prevent \"exploding gradients\"\n",
    "            torch.nn.utils.clip_grad_norm_(model.parameters(), 1.0)\n",
    "\n",
    "            # Update parameters and the learning rate\n",
    "            optimizer.step()\n",
    "            scheduler.step()\n",
    "\n",
    "            # Print the loss values and time elapsed for every 20 batches\n",
    "            if (step % 20 == 0 and step != 0) or (step == len(train_dataloader) - 1):\n",
    "                # Calculate time elapsed for 20 batches\n",
    "                time_elapsed = time.time() - t0_batch\n",
    "\n",
    "                # Print training results\n",
    "                print(f\"{epoch_i + 1:^7} | {step:^7} | {batch_loss / batch_counts:^12.6f} | {'-':^10} | {'-':^9} | {time_elapsed:^9.2f}\")\n",
    "\n",
    "                # Reset batch tracking variables\n",
    "                batch_loss, batch_counts = 0, 0\n",
    "                t0_batch = time.time()\n",
    "\n",
    "        # Calculate the average loss over the entire training data\n",
    "        avg_train_loss = total_loss / len(train_dataloader)\n",
    "\n",
    "        print(\"-\"*70)\n",
    "        # =======================================\n",
    "        #               Evaluation\n",
    "        # =======================================\n",
    "        if evaluation == True:\n",
    "            # After the completion of each training epoch, measure the model's performance\n",
    "            # on our validation set.\n",
    "            val_loss, val_accuracy = evaluate(model, val_dataloader)\n",
    "\n",
    "            # Print performance over the entire training data\n",
    "            time_elapsed = time.time() - t0_epoch\n",
    "            \n",
    "            print(f\"{epoch_i + 1:^7} | {'-':^7} | {avg_train_loss:^12.6f} | {val_loss:^10.6f} | {val_accuracy:^9.2f} | {time_elapsed:^9.2f}\")\n",
    "            print(\"-\"*70)\n",
    "        print(\"\\n\")\n",
    "    \n",
    "    print(\"Training complete!\")\n",
    "\n",
    "\n",
    "def evaluate(model, val_dataloader):\n",
    "    \"\"\"After the completion of each training epoch, measure the model's performance\n",
    "    on our validation set.\n",
    "    \"\"\"\n",
    "    # Put the model into the evaluation mode. The dropout layers are disabled during\n",
    "    # the test time.\n",
    "    model.eval()\n",
    "\n",
    "    # Tracking variables\n",
    "    val_accuracy = []\n",
    "    val_loss = []\n",
    "\n",
    "    # For each batch in our validation set...\n",
    "    for batch in val_dataloader:\n",
    "        # Load batch to GPU\n",
    "        b_input_ids, b_attn_mask, b_labels = tuple(t.to(device) for t in batch)\n",
    "\n",
    "        # Compute logits\n",
    "        with torch.no_grad():\n",
    "            logits = model(b_input_ids, b_attn_mask)\n",
    "\n",
    "        # Compute loss\n",
    "        loss = loss_fn(logits, b_labels)\n",
    "        val_loss.append(loss.item())\n",
    "\n",
    "        # Get the predictions\n",
    "        preds = torch.argmax(logits, dim=1).flatten()\n",
    "\n",
    "        # Calculate the accuracy rate\n",
    "        accuracy = (preds == b_labels).cpu().numpy().mean() * 100\n",
    "        val_accuracy.append(accuracy)\n",
    "\n",
    "    # Compute the average accuracy and loss over the validation set.\n",
    "    val_loss = np.mean(val_loss)\n",
    "    val_accuracy = np.mean(val_accuracy)\n",
    "\n",
    "    return val_loss, val_accuracy"
   ]
  },
  {
   "cell_type": "markdown",
   "metadata": {},
   "source": [
    "## Training the model"
   ]
  },
  {
   "cell_type": "code",
   "execution_count": null,
   "metadata": {
    "colab": {
     "base_uri": "https://localhost:8080/",
     "height": 1000
    },
    "colab_type": "code",
    "id": "J3BuI34vH60v",
    "outputId": "bbdf211e-5276-422f-d5a6-ce0e7ff5cad6"
   },
   "outputs": [
    {
     "name": "stdout",
     "output_type": "stream",
     "text": [
      "Start training...\n",
      "\n",
      " Epoch  |  Batch  |  Train Loss  |  Val Loss  |  Val Acc  |  Elapsed \n",
      "----------------------------------------------------------------------\n",
      "   1    |   20    |   0.699501   |     -      |     -     |   7.40   \n",
      "   1    |   40    |   0.690736   |     -      |     -     |   7.07   \n",
      "   1    |   60    |   0.687444   |     -      |     -     |   7.14   \n",
      "   1    |   80    |   0.696463   |     -      |     -     |   7.19   \n",
      "   1    |   100   |   0.693862   |     -      |     -     |   7.17   \n",
      "   1    |   120   |   0.691397   |     -      |     -     |   7.08   \n",
      "   1    |   140   |   0.692595   |     -      |     -     |   7.06   \n",
      "   1    |   160   |   0.693422   |     -      |     -     |   7.03   \n",
      "   1    |   180   |   0.694842   |     -      |     -     |   7.01   \n",
      "   1    |   200   |   0.691163   |     -      |     -     |   7.01   \n",
      "   1    |   220   |   0.689451   |     -      |     -     |   7.03   \n",
      "   1    |   240   |   0.691759   |     -      |     -     |   7.05   \n",
      "   1    |   260   |   0.694821   |     -      |     -     |   7.06   \n",
      "   1    |   280   |   0.694208   |     -      |     -     |   7.05   \n",
      "   1    |   300   |   0.688586   |     -      |     -     |   7.04   \n",
      "   1    |   320   |   0.692544   |     -      |     -     |   7.05   \n",
      "   1    |   340   |   0.693985   |     -      |     -     |   7.07   \n",
      "   1    |   360   |   0.688655   |     -      |     -     |   7.10   \n",
      "   1    |   380   |   0.692649   |     -      |     -     |   7.06   \n",
      "   1    |   400   |   0.690446   |     -      |     -     |   7.05   \n",
      "   1    |   420   |   0.686613   |     -      |     -     |   7.06   \n",
      "   1    |   440   |   0.680899   |     -      |     -     |   7.07   \n",
      "   1    |   460   |   0.690884   |     -      |     -     |   7.08   \n",
      "   1    |   480   |   0.691089   |     -      |     -     |   7.07   \n",
      "   1    |   500   |   0.690847   |     -      |     -     |   7.07   \n",
      "   1    |   520   |   0.692027   |     -      |     -     |   7.07   \n",
      "   1    |   540   |   0.692169   |     -      |     -     |   7.05   \n",
      "   1    |   560   |   0.689748   |     -      |     -     |   7.07   \n",
      "   1    |   580   |   0.681538   |     -      |     -     |   7.06   \n",
      "   1    |   600   |   0.685724   |     -      |     -     |   7.08   \n",
      "   1    |   620   |   0.687938   |     -      |     -     |   7.09   \n",
      "   1    |   640   |   0.687814   |     -      |     -     |   7.08   \n",
      "   1    |   660   |   0.690398   |     -      |     -     |   7.07   \n",
      "   1    |   680   |   0.688136   |     -      |     -     |   7.08   \n",
      "   1    |   700   |   0.692042   |     -      |     -     |   7.07   \n",
      "   1    |   720   |   0.684356   |     -      |     -     |   7.05   \n",
      "   1    |   740   |   0.677620   |     -      |     -     |   7.09   \n",
      "   1    |   760   |   0.695325   |     -      |     -     |   7.06   \n",
      "   1    |   780   |   0.689886   |     -      |     -     |   7.07   \n",
      "   1    |   800   |   0.686584   |     -      |     -     |   7.06   \n",
      "   1    |   820   |   0.684054   |     -      |     -     |   7.08   \n",
      "   1    |   840   |   0.685827   |     -      |     -     |   7.05   \n",
      "   1    |   860   |   0.677702   |     -      |     -     |   7.06   \n",
      "   1    |   880   |   0.681784   |     -      |     -     |   7.07   \n",
      "   1    |   900   |   0.686899   |     -      |     -     |   7.04   \n",
      "   1    |   920   |   0.685845   |     -      |     -     |   7.06   \n",
      "   1    |   940   |   0.684558   |     -      |     -     |   7.07   \n",
      "   1    |   960   |   0.683898   |     -      |     -     |   7.05   \n",
      "   1    |   980   |   0.677206   |     -      |     -     |   7.09   \n",
      "   1    |  1000   |   0.676621   |     -      |     -     |   7.09   \n",
      "   1    |  1020   |   0.695836   |     -      |     -     |   7.06   \n",
      "   1    |  1040   |   0.690211   |     -      |     -     |   7.03   \n",
      "   1    |  1060   |   0.689108   |     -      |     -     |   7.05   \n",
      "   1    |  1080   |   0.670090   |     -      |     -     |   7.05   \n",
      "   1    |  1100   |   0.671935   |     -      |     -     |   7.13   \n",
      "   1    |  1120   |   0.692587   |     -      |     -     |   7.09   \n",
      "   1    |  1140   |   0.693507   |     -      |     -     |   7.08   \n",
      "   1    |  1160   |   0.692744   |     -      |     -     |   7.02   \n",
      "   1    |  1180   |   0.692417   |     -      |     -     |   7.05   \n",
      "   1    |  1200   |   0.691255   |     -      |     -     |   7.04   \n",
      "   1    |  1220   |   0.683215   |     -      |     -     |   7.06   \n",
      "   1    |  1240   |   0.678589   |     -      |     -     |   7.08   \n",
      "   1    |  1260   |   0.686543   |     -      |     -     |   7.07   \n",
      "   1    |  1280   |   0.697419   |     -      |     -     |   7.04   \n",
      "   1    |  1300   |   0.686147   |     -      |     -     |   7.07   \n",
      "   1    |  1320   |   0.696770   |     -      |     -     |   7.08   \n",
      "   1    |  1340   |   0.680970   |     -      |     -     |   7.09   \n",
      "   1    |  1360   |   0.669923   |     -      |     -     |   7.10   \n",
      "   1    |  1380   |   0.684876   |     -      |     -     |   7.10   \n",
      "   1    |  1400   |   0.699255   |     -      |     -     |   7.11   \n",
      "   1    |  1420   |   0.685771   |     -      |     -     |   7.07   \n",
      "   1    |  1440   |   0.692984   |     -      |     -     |   7.05   \n",
      "   1    |  1460   |   0.687218   |     -      |     -     |   7.04   \n",
      "   1    |  1480   |   0.686521   |     -      |     -     |   7.04   \n",
      "   1    |  1500   |   0.683402   |     -      |     -     |   7.04   \n",
      "   1    |  1520   |   0.689438   |     -      |     -     |   7.07   \n",
      "   1    |  1540   |   0.686964   |     -      |     -     |   7.06   \n",
      "   1    |  1560   |   0.679260   |     -      |     -     |   7.07   \n",
      "   1    |  1580   |   0.697645   |     -      |     -     |   7.09   \n",
      "   1    |  1600   |   0.689794   |     -      |     -     |   7.04   \n",
      "   1    |  1620   |   0.688367   |     -      |     -     |   7.04   \n",
      "   1    |  1640   |   0.689954   |     -      |     -     |   7.04   \n",
      "   1    |  1660   |   0.683005   |     -      |     -     |   7.07   \n",
      "   1    |  1680   |   0.683454   |     -      |     -     |   7.10   \n",
      "   1    |  1700   |   0.689494   |     -      |     -     |   7.11   \n",
      "   1    |  1720   |   0.685704   |     -      |     -     |   7.09   \n",
      "   1    |  1740   |   0.695483   |     -      |     -     |   7.10   \n",
      "   1    |  1760   |   0.690356   |     -      |     -     |   7.10   \n",
      "   1    |  1780   |   0.678255   |     -      |     -     |   7.10   \n",
      "   1    |  1800   |   0.689864   |     -      |     -     |   7.10   \n",
      "   1    |  1820   |   0.673455   |     -      |     -     |   7.12   \n",
      "   1    |  1840   |   0.678976   |     -      |     -     |   7.12   \n",
      "   1    |  1860   |   0.682106   |     -      |     -     |   7.11   \n",
      "   1    |  1880   |   0.688052   |     -      |     -     |   7.11   \n",
      "   1    |  1900   |   0.685727   |     -      |     -     |   7.10   \n",
      "   1    |  1920   |   0.689547   |     -      |     -     |   7.08   \n",
      "   1    |  1940   |   0.694306   |     -      |     -     |   7.10   \n",
      "   1    |  1960   |   0.682621   |     -      |     -     |   7.08   \n",
      "   1    |  1980   |   0.690811   |     -      |     -     |   7.08   \n",
      "   1    |  2000   |   0.691275   |     -      |     -     |   7.10   \n",
      "   1    |  2020   |   0.680660   |     -      |     -     |   7.07   \n",
      "   1    |  2040   |   0.687894   |     -      |     -     |   7.11   \n",
      "   1    |  2060   |   0.685027   |     -      |     -     |   7.11   \n",
      "   1    |  2080   |   0.685891   |     -      |     -     |   7.13   \n",
      "   1    |  2100   |   0.687841   |     -      |     -     |   7.12   \n",
      "   1    |  2120   |   0.677081   |     -      |     -     |   7.09   \n",
      "   1    |  2140   |   0.684004   |     -      |     -     |   7.09   \n",
      "   1    |  2160   |   0.690215   |     -      |     -     |   7.10   \n",
      "   1    |  2180   |   0.698555   |     -      |     -     |   7.10   \n",
      "   1    |  2200   |   0.691165   |     -      |     -     |   7.11   \n",
      "   1    |  2220   |   0.690759   |     -      |     -     |   7.08   \n",
      "   1    |  2240   |   0.685713   |     -      |     -     |   7.10   \n",
      "   1    |  2249   |   0.672938   |     -      |     -     |   3.20   \n",
      "----------------------------------------------------------------------\n",
      "   1    |    -    |   0.687737   |  0.681388  |   56.19   |  826.10  \n",
      "----------------------------------------------------------------------\n",
      "\n",
      "\n",
      " Epoch  |  Batch  |  Train Loss  |  Val Loss  |  Val Acc  |  Elapsed \n",
      "----------------------------------------------------------------------\n",
      "   2    |   20    |   0.681373   |     -      |     -     |   7.43   \n",
      "   2    |   40    |   0.674950   |     -      |     -     |   7.08   \n",
      "   2    |   60    |   0.659814   |     -      |     -     |   7.10   \n",
      "   2    |   80    |   0.670682   |     -      |     -     |   7.12   \n",
      "   2    |   100   |   0.687088   |     -      |     -     |   7.12   \n",
      "   2    |   120   |   0.691992   |     -      |     -     |   7.10   \n",
      "   2    |   140   |   0.672715   |     -      |     -     |   7.10   \n",
      "   2    |   160   |   0.666491   |     -      |     -     |   7.11   \n",
      "   2    |   180   |   0.684885   |     -      |     -     |   7.10   \n",
      "   2    |   200   |   0.678338   |     -      |     -     |   7.11   \n",
      "   2    |   220   |   0.667900   |     -      |     -     |   7.11   \n",
      "   2    |   240   |   0.681660   |     -      |     -     |   7.11   \n",
      "   2    |   260   |   0.686174   |     -      |     -     |   7.11   \n",
      "   2    |   280   |   0.688521   |     -      |     -     |   7.10   \n",
      "   2    |   300   |   0.682969   |     -      |     -     |   7.09   \n",
      "   2    |   320   |   0.684785   |     -      |     -     |   7.11   \n",
      "   2    |   340   |   0.672111   |     -      |     -     |   7.09   \n",
      "   2    |   360   |   0.681297   |     -      |     -     |   7.10   \n",
      "   2    |   380   |   0.685207   |     -      |     -     |   7.09   \n",
      "   2    |   400   |   0.670080   |     -      |     -     |   7.10   \n",
      "   2    |   420   |   0.677668   |     -      |     -     |   7.11   \n",
      "   2    |   440   |   0.681590   |     -      |     -     |   7.13   \n",
      "   2    |   460   |   0.686838   |     -      |     -     |   7.12   \n",
      "   2    |   480   |   0.674857   |     -      |     -     |   7.12   \n",
      "   2    |   500   |   0.680101   |     -      |     -     |   7.11   \n",
      "   2    |   520   |   0.673663   |     -      |     -     |   7.10   \n",
      "   2    |   540   |   0.683733   |     -      |     -     |   7.12   \n",
      "   2    |   560   |   0.663881   |     -      |     -     |   7.11   \n",
      "   2    |   580   |   0.680216   |     -      |     -     |   7.11   \n",
      "   2    |   600   |   0.676063   |     -      |     -     |   7.12   \n",
      "   2    |   620   |   0.669138   |     -      |     -     |   7.11   \n",
      "   2    |   640   |   0.666889   |     -      |     -     |   7.13   \n",
      "   2    |   660   |   0.673175   |     -      |     -     |   7.13   \n",
      "   2    |   680   |   0.677166   |     -      |     -     |   7.11   \n",
      "   2    |   700   |   0.675229   |     -      |     -     |   7.14   \n",
      "   2    |   720   |   0.681940   |     -      |     -     |   7.12   \n",
      "   2    |   740   |   0.647516   |     -      |     -     |   7.11   \n",
      "   2    |   760   |   0.667894   |     -      |     -     |   7.11   \n",
      "   2    |   780   |   0.685729   |     -      |     -     |   7.12   \n",
      "   2    |   800   |   0.652920   |     -      |     -     |   7.11   \n",
      "   2    |   820   |   0.670539   |     -      |     -     |   7.12   \n",
      "   2    |   840   |   0.655154   |     -      |     -     |   7.14   \n",
      "   2    |   860   |   0.678001   |     -      |     -     |   7.12   \n",
      "   2    |   880   |   0.691980   |     -      |     -     |   7.12   \n",
      "   2    |   900   |   0.667166   |     -      |     -     |   7.11   \n",
      "   2    |   920   |   0.673696   |     -      |     -     |   7.14   \n",
      "   2    |   940   |   0.666139   |     -      |     -     |   7.11   \n",
      "   2    |   960   |   0.658974   |     -      |     -     |   7.11   \n",
      "   2    |   980   |   0.664377   |     -      |     -     |   7.12   \n",
      "   2    |  1000   |   0.665410   |     -      |     -     |   7.13   \n",
      "   2    |  1020   |   0.636169   |     -      |     -     |   7.12   \n",
      "   2    |  1040   |   0.670417   |     -      |     -     |   7.13   \n",
      "   2    |  1060   |   0.675923   |     -      |     -     |   7.11   \n",
      "   2    |  1080   |   0.676648   |     -      |     -     |   7.12   \n",
      "   2    |  1100   |   0.668377   |     -      |     -     |   7.12   \n",
      "   2    |  1120   |   0.659153   |     -      |     -     |   7.12   \n",
      "   2    |  1140   |   0.666316   |     -      |     -     |   7.12   \n",
      "   2    |  1160   |   0.667278   |     -      |     -     |   7.14   \n",
      "   2    |  1180   |   0.676913   |     -      |     -     |   7.10   \n",
      "   2    |  1200   |   0.654240   |     -      |     -     |   7.11   \n",
      "   2    |  1220   |   0.660041   |     -      |     -     |   7.12   \n",
      "   2    |  1240   |   0.662502   |     -      |     -     |   7.13   \n",
      "   2    |  1260   |   0.657093   |     -      |     -     |   7.14   \n",
      "   2    |  1280   |   0.655960   |     -      |     -     |   7.12   \n",
      "   2    |  1300   |   0.657870   |     -      |     -     |   7.12   \n",
      "   2    |  1320   |   0.673928   |     -      |     -     |   7.11   \n",
      "   2    |  1340   |   0.668567   |     -      |     -     |   7.13   \n",
      "   2    |  1360   |   0.692187   |     -      |     -     |   7.11   \n",
      "   2    |  1380   |   0.663280   |     -      |     -     |   7.10   \n",
      "   2    |  1400   |   0.664702   |     -      |     -     |   7.10   \n",
      "   2    |  1420   |   0.656121   |     -      |     -     |   7.11   \n",
      "   2    |  1440   |   0.652832   |     -      |     -     |   7.14   \n",
      "   2    |  1460   |   0.658102   |     -      |     -     |   7.11   \n",
      "   2    |  1480   |   0.657673   |     -      |     -     |   7.12   \n",
      "   2    |  1500   |   0.626785   |     -      |     -     |   7.13   \n",
      "   2    |  1520   |   0.675173   |     -      |     -     |   7.13   \n",
      "   2    |  1540   |   0.665768   |     -      |     -     |   7.13   \n",
      "   2    |  1560   |   0.660776   |     -      |     -     |   7.11   \n",
      "   2    |  1580   |   0.652705   |     -      |     -     |   7.12   \n",
      "   2    |  1600   |   0.672405   |     -      |     -     |   7.11   \n",
      "   2    |  1620   |   0.655330   |     -      |     -     |   7.10   \n",
      "   2    |  1640   |   0.674739   |     -      |     -     |   7.12   \n",
      "   2    |  1660   |   0.653910   |     -      |     -     |   7.11   \n",
      "   2    |  1680   |   0.649330   |     -      |     -     |   7.11   \n",
      "   2    |  1700   |   0.669446   |     -      |     -     |   7.12   \n",
      "   2    |  1720   |   0.644322   |     -      |     -     |   7.12   \n",
      "   2    |  1740   |   0.666952   |     -      |     -     |   7.12   \n",
      "   2    |  1760   |   0.651685   |     -      |     -     |   7.11   \n",
      "   2    |  1780   |   0.670831   |     -      |     -     |   7.12   \n",
      "   2    |  1800   |   0.663953   |     -      |     -     |   7.11   \n",
      "   2    |  1820   |   0.664513   |     -      |     -     |   7.11   \n",
      "   2    |  1840   |   0.660496   |     -      |     -     |   7.11   \n",
      "   2    |  1860   |   0.645929   |     -      |     -     |   7.12   \n",
      "   2    |  1880   |   0.637396   |     -      |     -     |   7.10   \n",
      "   2    |  1900   |   0.668595   |     -      |     -     |   7.12   \n",
      "   2    |  1920   |   0.643810   |     -      |     -     |   7.11   \n",
      "   2    |  1940   |   0.670727   |     -      |     -     |   7.12   \n",
      "   2    |  1960   |   0.653308   |     -      |     -     |   7.12   \n",
      "   2    |  1980   |   0.655545   |     -      |     -     |   7.13   \n",
      "   2    |  2000   |   0.651000   |     -      |     -     |   7.12   \n",
      "   2    |  2020   |   0.660693   |     -      |     -     |   7.12   \n",
      "   2    |  2040   |   0.667930   |     -      |     -     |   7.10   \n",
      "   2    |  2060   |   0.655450   |     -      |     -     |   7.12   \n",
      "   2    |  2080   |   0.649013   |     -      |     -     |   7.12   \n",
      "   2    |  2100   |   0.664532   |     -      |     -     |   7.14   \n",
      "   2    |  2120   |   0.641353   |     -      |     -     |   7.11   \n",
      "   2    |  2140   |   0.657805   |     -      |     -     |   7.11   \n",
      "   2    |  2160   |   0.641102   |     -      |     -     |   7.13   \n",
      "   2    |  2180   |   0.651609   |     -      |     -     |   7.10   \n",
      "   2    |  2200   |   0.666848   |     -      |     -     |   7.10   \n",
      "   2    |  2220   |   0.664251   |     -      |     -     |   7.12   \n",
      "   2    |  2240   |   0.650120   |     -      |     -     |   7.14   \n",
      "   2    |  2249   |   0.686964   |     -      |     -     |   3.20   \n",
      "----------------------------------------------------------------------\n",
      "   2    |    -    |   0.666563   |  0.660916  |   61.01   |  830.43  \n",
      "----------------------------------------------------------------------\n",
      "\n",
      "\n",
      " Epoch  |  Batch  |  Train Loss  |  Val Loss  |  Val Acc  |  Elapsed \n",
      "----------------------------------------------------------------------\n",
      "   3    |   20    |   0.626032   |     -      |     -     |   7.46   \n",
      "   3    |   40    |   0.610509   |     -      |     -     |   7.11   \n",
      "   3    |   60    |   0.600505   |     -      |     -     |   7.10   \n",
      "   3    |   80    |   0.657344   |     -      |     -     |   7.10   \n",
      "   3    |   100   |   0.622332   |     -      |     -     |   7.12   \n",
      "   3    |   120   |   0.602247   |     -      |     -     |   7.15   \n",
      "   3    |   140   |   0.617645   |     -      |     -     |   7.11   \n",
      "   3    |   160   |   0.623531   |     -      |     -     |   7.12   \n",
      "   3    |   180   |   0.615576   |     -      |     -     |   7.12   \n",
      "   3    |   200   |   0.602578   |     -      |     -     |   7.12   \n",
      "   3    |   220   |   0.603851   |     -      |     -     |   7.14   \n",
      "   3    |   240   |   0.606488   |     -      |     -     |   7.15   \n",
      "   3    |   260   |   0.615919   |     -      |     -     |   7.16   \n",
      "   3    |   280   |   0.595950   |     -      |     -     |   7.15   \n",
      "   3    |   300   |   0.618943   |     -      |     -     |   7.11   \n",
      "   3    |   320   |   0.609325   |     -      |     -     |   7.09   \n",
      "   3    |   340   |   0.618763   |     -      |     -     |   7.11   \n",
      "   3    |   360   |   0.626886   |     -      |     -     |   7.09   \n",
      "   3    |   380   |   0.602147   |     -      |     -     |   7.08   \n",
      "   3    |   400   |   0.635296   |     -      |     -     |   7.13   \n",
      "   3    |   420   |   0.619058   |     -      |     -     |   7.12   \n",
      "   3    |   440   |   0.635191   |     -      |     -     |   7.15   \n",
      "   3    |   460   |   0.608848   |     -      |     -     |   7.17   \n",
      "   3    |   480   |   0.616866   |     -      |     -     |   7.14   \n",
      "   3    |   500   |   0.595270   |     -      |     -     |   7.13   \n",
      "   3    |   520   |   0.566924   |     -      |     -     |   7.12   \n",
      "   3    |   540   |   0.617259   |     -      |     -     |   7.11   \n",
      "   3    |   560   |   0.623371   |     -      |     -     |   7.11   \n",
      "   3    |   580   |   0.606263   |     -      |     -     |   7.10   \n",
      "   3    |   600   |   0.620748   |     -      |     -     |   7.09   \n",
      "   3    |   620   |   0.603707   |     -      |     -     |   7.10   \n",
      "   3    |   640   |   0.606279   |     -      |     -     |   7.10   \n",
      "   3    |   660   |   0.618425   |     -      |     -     |   7.11   \n",
      "   3    |   680   |   0.584302   |     -      |     -     |   7.14   \n",
      "   3    |   700   |   0.591748   |     -      |     -     |   7.14   \n",
      "   3    |   720   |   0.616374   |     -      |     -     |   7.16   \n",
      "   3    |   740   |   0.646532   |     -      |     -     |   7.12   \n",
      "   3    |   760   |   0.615055   |     -      |     -     |   7.13   \n",
      "   3    |   780   |   0.583928   |     -      |     -     |   7.14   \n",
      "   3    |   800   |   0.618813   |     -      |     -     |   7.13   \n",
      "   3    |   820   |   0.586047   |     -      |     -     |   7.12   \n",
      "   3    |   840   |   0.594864   |     -      |     -     |   7.13   \n",
      "   3    |   860   |   0.599214   |     -      |     -     |   7.13   \n",
      "   3    |   880   |   0.576354   |     -      |     -     |   7.12   \n",
      "   3    |   900   |   0.590476   |     -      |     -     |   7.13   \n",
      "   3    |   920   |   0.612927   |     -      |     -     |   7.14   \n",
      "   3    |   940   |   0.605103   |     -      |     -     |   7.15   \n",
      "   3    |   960   |   0.601425   |     -      |     -     |   7.11   \n",
      "   3    |   980   |   0.632784   |     -      |     -     |   7.13   \n",
      "   3    |  1000   |   0.591535   |     -      |     -     |   7.14   \n",
      "   3    |  1020   |   0.617498   |     -      |     -     |   7.14   \n",
      "   3    |  1040   |   0.609548   |     -      |     -     |   7.14   \n",
      "   3    |  1060   |   0.580560   |     -      |     -     |   7.10   \n",
      "   3    |  1080   |   0.621832   |     -      |     -     |   7.09   \n",
      "   3    |  1100   |   0.609037   |     -      |     -     |   7.10   \n",
      "   3    |  1120   |   0.597648   |     -      |     -     |   7.09   \n",
      "   3    |  1140   |   0.600546   |     -      |     -     |   7.12   \n",
      "   3    |  1160   |   0.604268   |     -      |     -     |   7.12   \n",
      "   3    |  1180   |   0.593870   |     -      |     -     |   7.13   \n",
      "   3    |  1200   |   0.598349   |     -      |     -     |   7.15   \n",
      "   3    |  1220   |   0.605964   |     -      |     -     |   7.17   \n",
      "   3    |  1240   |   0.611560   |     -      |     -     |   7.16   \n",
      "   3    |  1260   |   0.581181   |     -      |     -     |   7.14   \n",
      "   3    |  1280   |   0.578713   |     -      |     -     |   7.13   \n",
      "   3    |  1300   |   0.607877   |     -      |     -     |   7.13   \n",
      "   3    |  1320   |   0.566003   |     -      |     -     |   7.10   \n",
      "   3    |  1340   |   0.581027   |     -      |     -     |   7.11   \n",
      "   3    |  1360   |   0.611747   |     -      |     -     |   7.11   \n",
      "   3    |  1380   |   0.579899   |     -      |     -     |   7.12   \n",
      "   3    |  1400   |   0.634107   |     -      |     -     |   7.11   \n",
      "   3    |  1420   |   0.585428   |     -      |     -     |   7.15   \n",
      "   3    |  1440   |   0.607259   |     -      |     -     |   7.14   \n",
      "   3    |  1460   |   0.576827   |     -      |     -     |   7.16   \n",
      "   3    |  1480   |   0.605647   |     -      |     -     |   7.13   \n",
      "   3    |  1500   |   0.600804   |     -      |     -     |   7.15   \n",
      "   3    |  1520   |   0.604542   |     -      |     -     |   7.16   \n",
      "   3    |  1540   |   0.587465   |     -      |     -     |   7.12   \n",
      "   3    |  1560   |   0.572806   |     -      |     -     |   7.14   \n",
      "   3    |  1580   |   0.593081   |     -      |     -     |   7.14   \n",
      "   3    |  1600   |   0.588903   |     -      |     -     |   7.14   \n",
      "   3    |  1620   |   0.594685   |     -      |     -     |   7.12   \n",
      "   3    |  1640   |   0.566907   |     -      |     -     |   7.13   \n",
      "   3    |  1660   |   0.586105   |     -      |     -     |   7.11   \n",
      "   3    |  1680   |   0.579231   |     -      |     -     |   7.13   \n",
      "   3    |  1700   |   0.596666   |     -      |     -     |   7.12   \n",
      "   3    |  1720   |   0.584423   |     -      |     -     |   7.13   \n",
      "   3    |  1740   |   0.608030   |     -      |     -     |   7.11   \n",
      "   3    |  1760   |   0.582749   |     -      |     -     |   7.10   \n",
      "   3    |  1780   |   0.612357   |     -      |     -     |   7.12   \n",
      "   3    |  1800   |   0.600373   |     -      |     -     |   7.11   \n",
      "   3    |  1820   |   0.606409   |     -      |     -     |   7.12   \n",
      "   3    |  1840   |   0.581931   |     -      |     -     |   7.12   \n",
      "   3    |  1860   |   0.597942   |     -      |     -     |   7.11   \n",
      "   3    |  1880   |   0.581804   |     -      |     -     |   7.11   \n",
      "   3    |  1900   |   0.573051   |     -      |     -     |   7.10   \n",
      "   3    |  1920   |   0.588440   |     -      |     -     |   7.11   \n",
      "   3    |  1940   |   0.585664   |     -      |     -     |   7.12   \n",
      "   3    |  1960   |   0.623842   |     -      |     -     |   7.13   \n",
      "   3    |  1980   |   0.575058   |     -      |     -     |   7.12   \n",
      "   3    |  2000   |   0.594223   |     -      |     -     |   7.13   \n",
      "   3    |  2020   |   0.570180   |     -      |     -     |   7.11   \n",
      "   3    |  2040   |   0.584820   |     -      |     -     |   7.10   \n",
      "   3    |  2060   |   0.575359   |     -      |     -     |   7.12   \n",
      "   3    |  2080   |   0.591419   |     -      |     -     |   7.11   \n",
      "   3    |  2100   |   0.580820   |     -      |     -     |   7.14   \n",
      "   3    |  2120   |   0.621599   |     -      |     -     |   7.10   \n",
      "   3    |  2140   |   0.551902   |     -      |     -     |   7.14   \n",
      "   3    |  2160   |   0.568472   |     -      |     -     |   7.11   \n",
      "   3    |  2180   |   0.594852   |     -      |     -     |   7.14   \n",
      "   3    |  2200   |   0.550239   |     -      |     -     |   7.11   \n",
      "   3    |  2220   |   0.592701   |     -      |     -     |   7.11   \n",
      "   3    |  2240   |   0.597657   |     -      |     -     |   7.13   \n",
      "   3    |  2249   |   0.598749   |     -      |     -     |   3.20   \n",
      "----------------------------------------------------------------------\n",
      "   3    |    -    |   0.600108   |  0.648768  |   64.62   |  831.52  \n",
      "----------------------------------------------------------------------\n",
      "\n",
      "\n",
      "Training complete!\n"
     ]
    }
   ],
   "source": [
    "set_seed(42)    # Set seed for reproducibility\n",
    "bert_classifier, optimizer, scheduler = initialize_model(epochs=4)\n",
    "train(bert_classifier, train_dataloader, val_dataloader, epochs=4, evaluation=True)"
   ]
  },
  {
   "cell_type": "markdown",
   "metadata": {},
   "source": [
    "#### Adding functions for model evaluation"
   ]
  },
  {
   "cell_type": "code",
   "execution_count": null,
   "metadata": {
    "colab": {},
    "colab_type": "code",
    "id": "B6wSlpxGIDjf"
   },
   "outputs": [],
   "source": [
    "import torch.nn.functional as F\n",
    "\n",
    "def bert_predict(model, test_dataloader):\n",
    "    \"\"\"Perform a forward pass on the trained BERT model to predict probabilities\n",
    "    on the test set.\n",
    "    \"\"\"\n",
    "    # Put the model into the evaluation mode. The dropout layers are disabled during\n",
    "    # the test time.\n",
    "    model.eval()\n",
    "\n",
    "    all_logits = []\n",
    "\n",
    "    # For each batch in our test set...\n",
    "    for batch in test_dataloader:\n",
    "        # Load batch to GPU\n",
    "        b_input_ids, b_attn_mask = tuple(t.to(device) for t in batch)[:2]\n",
    "\n",
    "        # Compute logits\n",
    "        with torch.no_grad():\n",
    "            logits = model(b_input_ids, b_attn_mask)\n",
    "        all_logits.append(logits)\n",
    "    \n",
    "    # Concatenate logits from each batch\n",
    "    all_logits = torch.cat(all_logits, dim=0)\n",
    "\n",
    "    # Apply softmax to calculate probabilities\n",
    "    probs = F.softmax(all_logits, dim=1).cpu().numpy()\n",
    "\n",
    "    return probs"
   ]
  },
  {
   "cell_type": "code",
   "execution_count": null,
   "metadata": {
    "colab": {},
    "colab_type": "code",
    "id": "OtIRQrFSI5cc"
   },
   "outputs": [],
   "source": [
    "from sklearn.metrics import accuracy_score, roc_curve, auc\n",
    "\n",
    "def evaluate_roc(probs, y_true):\n",
    "    \"\"\"\n",
    "    - Print AUC and accuracy on the test set\n",
    "    - Plot ROC\n",
    "    @params    probs (np.array): an array of predicted probabilities with shape (len(y_true), 2)\n",
    "    @params    y_true (np.array): an array of the true values with shape (len(y_true),)\n",
    "    \"\"\"\n",
    "    preds = probs[:, 1]\n",
    "    fpr, tpr, threshold = roc_curve(y_true, preds)\n",
    "    roc_auc = auc(fpr, tpr)\n",
    "    print(f'AUC: {roc_auc:.4f}')\n",
    "       \n",
    "    # Get accuracy over the test set\n",
    "    y_pred = np.where(preds >= 0.5, 1, 0)\n",
    "    accuracy = accuracy_score(y_true, y_pred)\n",
    "    print(f'Accuracy: {accuracy*100:.2f}%')\n",
    "    \n",
    "    # Plot ROC AUC\n",
    "    plt.title('Receiver Operating Characteristic')\n",
    "    plt.plot(fpr, tpr, 'b', label = 'AUC = %0.2f' % roc_auc)\n",
    "    plt.legend(loc = 'lower right')\n",
    "    plt.plot([0, 1], [0, 1],'r--')\n",
    "    plt.xlim([0, 1])\n",
    "    plt.ylim([0, 1])\n",
    "    plt.ylabel('True Positive Rate')\n",
    "    plt.xlabel('False Positive Rate')\n",
    "    plt.show()"
   ]
  },
  {
   "cell_type": "markdown",
   "metadata": {},
   "source": [
    "#### Looking at the model performance"
   ]
  },
  {
   "cell_type": "code",
   "execution_count": null,
   "metadata": {
    "colab": {
     "base_uri": "https://localhost:8080/",
     "height": 329
    },
    "colab_type": "code",
    "id": "enpusEOJILuU",
    "outputId": "2b8ae1aa-0705-4979-d9df-68b12004df5c"
   },
   "outputs": [
    {
     "name": "stdout",
     "output_type": "stream",
     "text": [
      "AUC: 0.6892\n",
      "Accuracy: 64.48%\n"
     ]
    },
    {
     "data": {
      "image/png": "[encoded data removed]",
      "text/plain": [
       "<Figure size 432x288 with 1 Axes>"
      ]
     },
     "metadata": {
      "needs_background": "light",
      "tags": []
     },
     "output_type": "display_data"
    }
   ],
   "source": [
    "# Compute predicted probabilities on the test set\n",
    "probs = bert_predict(bert_classifier, val_dataloader)\n",
    "\n",
    "# Evaluate the Bert classifier\n",
    "evaluate_roc(probs, y_val)"
   ]
  },
  {
   "cell_type": "code",
   "execution_count": null,
   "metadata": {
    "colab": {
     "base_uri": "https://localhost:8080/",
     "height": 34
    },
    "colab_type": "code",
    "id": "49H7goXgIPVB",
    "outputId": "14dd2579-1b96-492e-f3b9-d87cd333bbf3"
   },
   "outputs": [
    {
     "name": "stdout",
     "output_type": "stream",
     "text": [
      "Tokenizing data...\n"
     ]
    }
   ],
   "source": [
    "# Run `preprocessing_for_bert` on the test set\n",
    "print('Tokenizing data...')\n",
    "test_inputs, test_masks = preprocessing_for_bert(test_data.Title)\n",
    "\n",
    "# Create the DataLoader for our test set\n",
    "test_dataset = TensorDataset(test_inputs, test_masks)\n",
    "test_sampler = SequentialSampler(test_dataset)\n",
    "test_dataloader = DataLoader(test_dataset, sampler=test_sampler, batch_size=32)"
   ]
  },
  {
   "cell_type": "code",
   "execution_count": null,
   "metadata": {
    "colab": {
     "base_uri": "https://localhost:8080/",
     "height": 34
    },
    "colab_type": "code",
    "id": "cS4n4a3vKZbR",
    "outputId": "01d01a9f-62af-4247-c37f-3a79c5e989e6"
   },
   "outputs": [],
   "source": [
    "# Compute predicted probabilities on the test set\n",
    "probs = bert_predict(bert_classifier, test_dataloader)\n",
    "\n",
    "# Get predictions from the probabilities\n",
    "threshold = 0.4\n",
    "preds = np.where(probs[:, 1] > threshold, 1, 0)\n",
    "\n",
    "print(\"Number of headlines predicted non-negative: \", preds.sum())"
   ]
  },
  {
   "cell_type": "code",
   "execution_count": null,
   "metadata": {
    "colab": {},
    "colab_type": "code",
    "id": "7sDOAehCKbYL"
   },
   "outputs": [],
   "source": [
    "output = test_data#[preds==1]\n",
    "#list(output.sample(20).tweet)"
   ]
  },
  {
   "cell_type": "markdown",
   "metadata": {},
   "source": [
    "Outputting the data to be used in the analysis notebook"
   ]
  },
  {
   "cell_type": "code",
   "execution_count": null,
   "metadata": {
    "colab": {},
    "colab_type": "code",
    "id": "VKhq4CWWKdO_"
   },
   "outputs": [],
   "source": [
    "output.to_csv('data.csv')"
   ]
  },
  {
   "cell_type": "code",
   "execution_count": null,
   "metadata": {
    "colab": {},
    "colab_type": "code",
    "id": "882otGPdIKej"
   },
   "outputs": [],
   "source": [
    "pd.DataFrame(probs).to_csv('probs.csv')"
   ]
  }
 ],
 "metadata": {
  "accelerator": "GPU",
  "colab": {
   "collapsed_sections": [],
   "name": "BERT.ipynb",
   "provenance": []
  },
  "kernelspec": {
   "display_name": "Python 3",
   "language": "python",
   "name": "python3"
  },
  "language_info": {
   "codemirror_mode": {
    "name": "ipython",
    "version": 3
   },
   "file_extension": ".py",
   "mimetype": "text/x-python",
   "name": "python",
   "nbconvert_exporter": "python",
   "pygments_lexer": "ipython3",
   "version": "3.8.3"
  },
  "widgets": {
   "application/vnd.jupyter.widget-state+json": {
    "2dfee3a66a514535abbb9571d58af6ea": {
     "model_module": "@jupyter-widgets/base",
     "model_name": "LayoutModel",
     "state": {
      "_model_module": "@jupyter-widgets/base",
      "_model_module_version": "1.2.0",
      "_model_name": "LayoutModel",
      "_view_count": null,
      "_view_module": "@jupyter-widgets/base",
      "_view_module_version": "1.2.0",
      "_view_name": "LayoutView",
      "align_content": null,
      "align_items": null,
      "align_self": null,
      "border": null,
      "bottom": null,
      "display": null,
      "flex": null,
      "flex_flow": null,
      "grid_area": null,
      "grid_auto_columns": null,
      "grid_auto_flow": null,
      "grid_auto_rows": null,
      "grid_column": null,
      "grid_gap": null,
      "grid_row": null,
      "grid_template_areas": null,
      "grid_template_columns": null,
      "grid_template_rows": null,
      "height": null,
      "justify_content": null,
      "justify_items": null,
      "left": null,
      "margin": null,
      "max_height": null,
      "max_width": null,
      "min_height": null,
      "min_width": null,
      "object_fit": null,
      "object_position": null,
      "order": null,
      "overflow": null,
      "overflow_x": null,
      "overflow_y": null,
      "padding": null,
      "right": null,
      "top": null,
      "visibility": null,
      "width": null
     }
    },
    "40412089025441a0acad85694425d463": {
     "model_module": "@jupyter-widgets/controls",
     "model_name": "DescriptionStyleModel",
     "state": {
      "_model_module": "@jupyter-widgets/controls",
      "_model_module_version": "1.5.0",
      "_model_name": "DescriptionStyleModel",
      "_view_count": null,
      "_view_module": "@jupyter-widgets/base",
      "_view_module_version": "1.2.0",
      "_view_name": "StyleView",
      "description_width": ""
     }
    },
    "45e03494921c478c80a777c1d086aafd": {
     "model_module": "@jupyter-widgets/base",
     "model_name": "LayoutModel",
     "state": {
      "_model_module": "@jupyter-widgets/base",
      "_model_module_version": "1.2.0",
      "_model_name": "LayoutModel",
      "_view_count": null,
      "_view_module": "@jupyter-widgets/base",
      "_view_module_version": "1.2.0",
      "_view_name": "LayoutView",
      "align_content": null,
      "align_items": null,
      "align_self": null,
      "border": null,
      "bottom": null,
      "display": null,
      "flex": null,
      "flex_flow": null,
      "grid_area": null,
      "grid_auto_columns": null,
      "grid_auto_flow": null,
      "grid_auto_rows": null,
      "grid_column": null,
      "grid_gap": null,
      "grid_row": null,
      "grid_template_areas": null,
      "grid_template_columns": null,
      "grid_template_rows": null,
      "height": null,
      "justify_content": null,
      "justify_items": null,
      "left": null,
      "margin": null,
      "max_height": null,
      "max_width": null,
      "min_height": null,
      "min_width": null,
      "object_fit": null,
      "object_position": null,
      "order": null,
      "overflow": null,
      "overflow_x": null,
      "overflow_y": null,
      "padding": null,
      "right": null,
      "top": null,
      "visibility": null,
      "width": null
     }
    },
    "4d55f5bb07a04b3aa8251c9833ac5cf6": {
     "model_module": "@jupyter-widgets/controls",
     "model_name": "FloatProgressModel",
     "state": {
      "_dom_classes": [],
      "_model_module": "@jupyter-widgets/controls",
      "_model_module_version": "1.5.0",
      "_model_name": "FloatProgressModel",
      "_view_count": null,
      "_view_module": "@jupyter-widgets/controls",
      "_view_module_version": "1.5.0",
      "_view_name": "ProgressView",
      "bar_style": "success",
      "description": "Downloading: 100%",
      "description_tooltip": null,
      "layout": "IPY_MODEL_45e03494921c478c80a777c1d086aafd",
      "max": 231508,
      "min": 0,
      "orientation": "horizontal",
      "style": "IPY_MODEL_fdb9ca8200704b78b2ac8e27593eb41f",
      "value": 231508
     }
    },
    "cc2ee7915e67445a95869032a6f05486": {
     "model_module": "@jupyter-widgets/controls",
     "model_name": "HBoxModel",
     "state": {
      "_dom_classes": [],
      "_model_module": "@jupyter-widgets/controls",
      "_model_module_version": "1.5.0",
      "_model_name": "HBoxModel",
      "_view_count": null,
      "_view_module": "@jupyter-widgets/controls",
      "_view_module_version": "1.5.0",
      "_view_name": "HBoxView",
      "box_style": "",
      "children": [
       "IPY_MODEL_4d55f5bb07a04b3aa8251c9833ac5cf6",
       "IPY_MODEL_cdd68f07da6745c0b0b33443f56d7a1a"
      ],
      "layout": "IPY_MODEL_2dfee3a66a514535abbb9571d58af6ea"
     }
    },
    "cdd68f07da6745c0b0b33443f56d7a1a": {
     "model_module": "@jupyter-widgets/controls",
     "model_name": "HTMLModel",
     "state": {
      "_dom_classes": [],
      "_model_module": "@jupyter-widgets/controls",
      "_model_module_version": "1.5.0",
      "_model_name": "HTMLModel",
      "_view_count": null,
      "_view_module": "@jupyter-widgets/controls",
      "_view_module_version": "1.5.0",
      "_view_name": "HTMLView",
      "description": "",
      "description_tooltip": null,
      "layout": "IPY_MODEL_eef20db043674a878c70fb7846606358",
      "placeholder": "​",
      "style": "IPY_MODEL_40412089025441a0acad85694425d463",
      "value": " 232k/232k [00:00&lt;00:00, 902kB/s]"
     }
    },
    "eef20db043674a878c70fb7846606358": {
     "model_module": "@jupyter-widgets/base",
     "model_name": "LayoutModel",
     "state": {
      "_model_module": "@jupyter-widgets/base",
      "_model_module_version": "1.2.0",
      "_model_name": "LayoutModel",
      "_view_count": null,
      "_view_module": "@jupyter-widgets/base",
      "_view_module_version": "1.2.0",
      "_view_name": "LayoutView",
      "align_content": null,
      "align_items": null,
      "align_self": null,
      "border": null,
      "bottom": null,
      "display": null,
      "flex": null,
      "flex_flow": null,
      "grid_area": null,
      "grid_auto_columns": null,
      "grid_auto_flow": null,
      "grid_auto_rows": null,
      "grid_column": null,
      "grid_gap": null,
      "grid_row": null,
      "grid_template_areas": null,
      "grid_template_columns": null,
      "grid_template_rows": null,
      "height": null,
      "justify_content": null,
      "justify_items": null,
      "left": null,
      "margin": null,
      "max_height": null,
      "max_width": null,
      "min_height": null,
      "min_width": null,
      "object_fit": null,
      "object_position": null,
      "order": null,
      "overflow": null,
      "overflow_x": null,
      "overflow_y": null,
      "padding": null,
      "right": null,
      "top": null,
      "visibility": null,
      "width": null
     }
    },
    "fdb9ca8200704b78b2ac8e27593eb41f": {
     "model_module": "@jupyter-widgets/controls",
     "model_name": "ProgressStyleModel",
     "state": {
      "_model_module": "@jupyter-widgets/controls",
      "_model_module_version": "1.5.0",
      "_model_name": "ProgressStyleModel",
      "_view_count": null,
      "_view_module": "@jupyter-widgets/base",
      "_view_module_version": "1.2.0",
      "_view_name": "StyleView",
      "bar_color": null,
      "description_width": "initial"
     }
    }
   }
  }
 },
 "nbformat": 4,
 "nbformat_minor": 4
}
