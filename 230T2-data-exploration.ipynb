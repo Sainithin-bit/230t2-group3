{
 "cells": [
  {
   "cell_type": "markdown",
   "metadata": {},
   "source": [
    "# Initial section: data retrieval and engineering\n",
    "### 230T2 - Megha Raveendran, Renee Reynolds, Derui Chen, Loïc Diridollou, Shiva Kandi"
   ]
  },
  {
   "cell_type": "code",
   "execution_count": 39,
   "metadata": {},
   "outputs": [],
   "source": [
    "import os\n",
    "import numpy as np\n",
    "import pandas as pd\n",
    "import matplotlib.pyplot as plt\n",
    "import datetime as dt\n",
    "import pandas_datareader.data as web\n",
    "from sklearn.metrics import mean_squared_error, confusion_matrix\n",
    "import datetime as dt\n",
    "from pandas_datareader import data\n",
    "import statsmodels.api as sm"
   ]
  },
  {
   "cell_type": "markdown",
   "metadata": {},
   "source": [
    "# Exploration"
   ]
  },
  {
   "cell_type": "code",
   "execution_count": null,
   "metadata": {},
   "outputs": [],
   "source": [
    "path = 'C:\\\\Users\\\\loicd\\\\Documents\\\\UC Berkeley\\\\3rd Term\\\\230T2\\\\data\\\\'"
   ]
  },
  {
   "cell_type": "code",
   "execution_count": null,
   "metadata": {},
   "outputs": [],
   "source": [
    "# listing all the subfolders in the data folder\n",
    "paths = []\n",
    "for f in os.listdir(path):\n",
    "    if not os.path.isfile(os.path.join(path, f)):\n",
    "        paths.append([f, path+f])\n",
    "        \n",
    "# creating empty dataset to store data\n",
    "df = pd.DataFrame(columns= ['Date', 'Title'])\n",
    "\n",
    "for path in paths:\n",
    "    for article in os.listdir(path[1]):\n",
    "        f = open(path[1] +'\\\\' + article , \"r\")\n",
    "        # try to extract date and headline from the txt file, otherwise print date\n",
    "        # for further investigation\n",
    "        try:\n",
    "            tit = f.read().replace('\\n', ' ').split('--')[1]\n",
    "            dic = {'Date': path[0], 'Title': tit}\n",
    "            df = df.append(dic, ignore_index = True)\n",
    "        except:\n",
    "            print(path[1])\n"
   ]
  },
  {
   "cell_type": "code",
   "execution_count": null,
   "metadata": {},
   "outputs": [],
   "source": [
    "df.head()"
   ]
  },
  {
   "cell_type": "code",
   "execution_count": null,
   "metadata": {},
   "outputs": [],
   "source": [
    "# export data frame for later use\n",
    "df.to_csv(r'C:\\Users\\loicd\\Documents\\UC Berkeley\\3rd Term\\230T2\\list_titles.csv')"
   ]
  },
  {
   "cell_type": "code",
   "execution_count": null,
   "metadata": {},
   "outputs": [],
   "source": [
    "# downloading market data for labelling\n",
    "mkt_data = web.DataReader(\"^GSPC\", 'yahoo', '2006-10-19', '2013-12-31')"
   ]
  },
  {
   "cell_type": "code",
   "execution_count": null,
   "metadata": {},
   "outputs": [],
   "source": [
    "# extract only Close values\n",
    "serie = mkt_data.Close.pct_change()"
   ]
  },
  {
   "cell_type": "code",
   "execution_count": null,
   "metadata": {},
   "outputs": [],
   "source": [
    "# Only when importing\n",
    "df.drop('Unnamed: 0', axis = 1, inplace = True)"
   ]
  },
  {
   "cell_type": "code",
   "execution_count": null,
   "metadata": {},
   "outputs": [],
   "source": [
    "df.Date = pd.to_datetime(df.Date, format='%Y%m%d')"
   ]
  },
  {
   "cell_type": "code",
   "execution_count": null,
   "metadata": {},
   "outputs": [],
   "source": [
    "# creating empty column\n",
    "df['Return'] = 0.\n",
    "\n",
    "# Labelling\n",
    "for i in df.index:\n",
    "    # print(i)\n",
    "    try:\n",
    "        df.loc[i, 'Return'] = serie.loc[df.loc[i, 'Date']]\n",
    "    except:\n",
    "        df.loc[i, 'Return'] = 0"
   ]
  },
  {
   "cell_type": "markdown",
   "metadata": {},
   "source": [
    "### Save the file to be used in BERT Model"
   ]
  },
  {
   "cell_type": "code",
   "execution_count": null,
   "metadata": {},
   "outputs": [],
   "source": [
    "df.to_csv(r'C:\\Users\\loicd\\Documents\\UC Berkeley\\3rd Term\\230T2\\list_titles.csv')"
   ]
  }
 ],
 "metadata": {
  "kernelspec": {
   "display_name": "Python 3",
   "language": "python",
   "name": "python3"
  },
  "language_info": {
   "codemirror_mode": {
    "name": "ipython",
    "version": 3
   },
   "file_extension": ".py",
   "mimetype": "text/x-python",
   "name": "python",
   "nbconvert_exporter": "python",
   "pygments_lexer": "ipython3",
   "version": "3.8.3"
  }
 },
 "nbformat": 4,
 "nbformat_minor": 4
}
