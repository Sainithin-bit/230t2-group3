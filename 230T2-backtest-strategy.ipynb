{
 "cells": [
  {
   "cell_type": "markdown",
   "metadata": {},
   "source": [
    "# Backtest Strategy\n",
    "\n",
    "## Methodology:\n",
    "\n",
    "In order to simulate predictive prowess of the sentiment factor calculated above, we implement a simple paper portfolio backtest strategy. There were quite a few alternatives in order to implement paper portfolios. Few of the things we came up with were:\n",
    "\n",
    "- Act on the instantaneous sentiment signal calculated everyday,\n",
    "    - Hold for 1 day\n",
    "    - Hold for 5 days\n",
    "-  Act o the instantaneous sentiment signal, calculated based on weighting given to different news depending on its impact on a given day\n",
    "    - Act on the Momentum of the sentiment signal\n",
    "        - Transact S \\& P 500\n",
    "        - Transact VIX\n",
    "    - Act on the persistent sentiment signal (rolling average of X days)\n",
    "        - Transact S \\& P 500\n",
    "        - Transact VIX"
   ]
  },
  {
   "cell_type": "code",
   "execution_count": 1,
   "metadata": {},
   "outputs": [
    {
     "name": "stderr",
     "output_type": "stream",
     "text": [
      "/Users/shiva.kandi/opt/anaconda3/lib/python3.7/site-packages/pandas_datareader/compat/__init__.py:7: FutureWarning: pandas.util.testing is deprecated. Use the functions in the public API at pandas.testing instead.\n",
      "  from pandas.util.testing import assert_frame_equal\n"
     ]
    }
   ],
   "source": [
    "import numpy as np\n",
    "import pandas as pd\n",
    "from pandas_datareader import data as pdr\n",
    "from math import *"
   ]
  },
  {
   "cell_type": "code",
   "execution_count": 2,
   "metadata": {},
   "outputs": [],
   "source": [
    "path = r''\n",
    "file_2 = 'data.csv'\n",
    "file_1 = 'probs.csv'"
   ]
  },
  {
   "cell_type": "code",
   "execution_count": 3,
   "metadata": {},
   "outputs": [],
   "source": [
    "data = pd.read_csv(path+file_2, header=[0]).iloc[:,1:]\n",
    "probs = pd.read_csv(path+file_1, header=[0]).iloc[:,1:]\n",
    "vix = pd.read_excel(path+'VIX.xlsx', sheet_name='Sheet2',header=[0], index_col=[0])\n",
    "vix.index = pd.to_datetime(vix.index)\n",
    "spx = pdr.get_data_yahoo(\"^GSPC\", start=\"2006-01-01\", end=\"2014-04-30\")\n",
    "spx['Returns'] = spx['Adj Close'].pct_change()\n",
    "spx.loc[:, 'Vol'] = sqrt(252)*spx['Returns'].rolling(33).std()"
   ]
  },
  {
   "cell_type": "code",
   "execution_count": 4,
   "metadata": {},
   "outputs": [],
   "source": [
    "merged_df = data.merge(probs, left_index=True, right_index=True)\n",
    "merged_df['Date'] = pd.to_datetime(merged_df['Date'])\n",
    "merged_df = merged_df.rename(columns={'0': \"Negative\", '1': \"Positive\"})\n",
    "merged_df = merged_df.set_index('Date')#.loc['2012-1-1':]\n",
    "\n",
    "merged_df = merged_df.merge(spx, left_index=True, right_index=True, how='left').dropna(subset=['Close'])"
   ]
  },
  {
   "cell_type": "code",
   "execution_count": 5,
   "metadata": {},
   "outputs": [],
   "source": [
    "day_grp = merged_df.groupby(merged_df.index)['Positive'].mean().to_frame('Positive')\n",
    "day_grp['Negative'] = merged_df.groupby(merged_df.index)['Negative'].mean()\n",
    "day_grp['Positive_Max'] = merged_df.groupby(merged_df.index)['Positive'].max()\n",
    "day_grp['Positive_75'] = merged_df.groupby(merged_df.index)['Positive'].quantile(.75)\n",
    "day_grp['Positive_25'] = merged_df.groupby(merged_df.index)['Positive'].quantile(.25)\n",
    "day_grp['Positive_10'] = merged_df.groupby(merged_df.index)['Positive'].quantile(.1)\n",
    "day_grp['Negative_Max'] = merged_df.groupby(merged_df.index)['Negative'].max()\n",
    "day_grp['Negative_75'] = merged_df.groupby(merged_df.index)['Negative'].quantile(.75)\n",
    "day_grp['Negative_25'] = merged_df.groupby(merged_df.index)['Negative'].quantile(.25)\n",
    "day_grp['Negative_10'] = merged_df.groupby(merged_df.index)['Negative'].quantile(.10)\n",
    "day_grp = day_grp.merge(spx, left_index=True, right_index=True, how='left')\n",
    "day_grp = day_grp.sort_index(axis=0)"
   ]
  },
  {
   "cell_type": "code",
   "execution_count": 6,
   "metadata": {},
   "outputs": [],
   "source": [
    "day_grp['Rolling_Positive'] = day_grp['Positive'].rolling(20).mean()"
   ]
  },
  {
   "cell_type": "markdown",
   "metadata": {},
   "source": [
    "Looking at the correlation among several different factors below:"
   ]
  },
  {
   "cell_type": "code",
   "execution_count": 7,
   "metadata": {
    "scrolled": true
   },
   "outputs": [
    {
     "data": {
      "text/html": [
       "<div>\n",
       "<style scoped>\n",
       "    .dataframe tbody tr th:only-of-type {\n",
       "        vertical-align: middle;\n",
       "    }\n",
       "\n",
       "    .dataframe tbody tr th {\n",
       "        vertical-align: top;\n",
       "    }\n",
       "\n",
       "    .dataframe thead th {\n",
       "        text-align: right;\n",
       "    }\n",
       "</style>\n",
       "<table border=\"1\" class=\"dataframe\">\n",
       "  <thead>\n",
       "    <tr style=\"text-align: right;\">\n",
       "      <th></th>\n",
       "      <th>Rolling_Positive</th>\n",
       "      <th>Positive</th>\n",
       "      <th>Returns</th>\n",
       "      <th>Vol</th>\n",
       "      <th>Close</th>\n",
       "    </tr>\n",
       "  </thead>\n",
       "  <tbody>\n",
       "    <tr>\n",
       "      <th>Rolling_Positive</th>\n",
       "      <td>1.000000</td>\n",
       "      <td>0.393633</td>\n",
       "      <td>-0.017788</td>\n",
       "      <td>0.084470</td>\n",
       "      <td>0.292111</td>\n",
       "    </tr>\n",
       "    <tr>\n",
       "      <th>Positive</th>\n",
       "      <td>0.393633</td>\n",
       "      <td>1.000000</td>\n",
       "      <td>0.025746</td>\n",
       "      <td>0.074213</td>\n",
       "      <td>0.119236</td>\n",
       "    </tr>\n",
       "    <tr>\n",
       "      <th>Returns</th>\n",
       "      <td>-0.017788</td>\n",
       "      <td>0.025746</td>\n",
       "      <td>1.000000</td>\n",
       "      <td>0.112009</td>\n",
       "      <td>0.030711</td>\n",
       "    </tr>\n",
       "    <tr>\n",
       "      <th>Vol</th>\n",
       "      <td>0.084470</td>\n",
       "      <td>0.074213</td>\n",
       "      <td>0.112009</td>\n",
       "      <td>1.000000</td>\n",
       "      <td>-0.459332</td>\n",
       "    </tr>\n",
       "    <tr>\n",
       "      <th>Close</th>\n",
       "      <td>0.292111</td>\n",
       "      <td>0.119236</td>\n",
       "      <td>0.030711</td>\n",
       "      <td>-0.459332</td>\n",
       "      <td>1.000000</td>\n",
       "    </tr>\n",
       "  </tbody>\n",
       "</table>\n",
       "</div>"
      ],
      "text/plain": [
       "                  Rolling_Positive  Positive   Returns       Vol     Close\n",
       "Rolling_Positive          1.000000  0.393633 -0.017788  0.084470  0.292111\n",
       "Positive                  0.393633  1.000000  0.025746  0.074213  0.119236\n",
       "Returns                  -0.017788  0.025746  1.000000  0.112009  0.030711\n",
       "Vol                       0.084470  0.074213  0.112009  1.000000 -0.459332\n",
       "Close                     0.292111  0.119236  0.030711 -0.459332  1.000000"
      ]
     },
     "execution_count": 7,
     "metadata": {},
     "output_type": "execute_result"
    }
   ],
   "source": [
    "day_grp[['Rolling_Positive','Positive', 'Returns', 'Vol', 'Close']].corr()"
   ]
  },
  {
   "cell_type": "markdown",
   "metadata": {},
   "source": [
    "We note that the correlation of rolling positive, which is an average sentiment of past 20 days, to have significant correlation with close.\n",
    "\n",
    "Thus, we implemented the one with the following characteristics:\n",
    "\n",
    "\n",
    "We implement the above on the test dataset which ranges from 15th Dec, 2011 to 20th Nov, 2013. With averaging, we have signals from 17th Jan, 2012 to 20th Nov, 2013. This gives us a total of approximately 2 years of signal data to test on. Because of the bias in the signal, we anchor on 0.4, with factor signalling buy if p $\\ge$ 0.4, and sell if p $\\le$ 0.4."
   ]
  },
  {
   "cell_type": "markdown",
   "metadata": {},
   "source": [
    "## BackTest: Signal and Performance"
   ]
  },
  {
   "cell_type": "markdown",
   "metadata": {},
   "source": [
    "Implementing the above signal we get the following paper portfolio characteristics:\n",
    "\n",
    "\n",
    "\n",
    "We calculate the different variables as:\n",
    "\n",
    "   - Signal: We calculate the signal based on the previous 20 days for a given day. Then we adjust by bias, and take sign of signal where we buy if signal > 0 and sell if signal < 0\n",
    "   - Information Coefficient (IC): correlation coefficient of signal on a given day with returns of the day\n",
    "   - Returns: We calculate the returns of the paper portfolio on a given day as signal times returns \n",
    "        - Stats such as mean, volatility)\n",
    "   - Risk free rate (RFR): prevailing risk free rate of return during 2012, 2\\% p.a.\n",
    "   - Sharpe Ratio (SR): Paper portfolio risk adjusted excess returns measure\n",
    "   - Long Only: another simulated portfolio, where we buy and hold S\\&P500 for the given period\n",
    "\n",
    "\n",
    "Here, we note that the sentiment signal indeed has some predictability over short-term such as next day returns. One could ask that the index itself performed well and that we had a long-only sort of portfolio. In order to evaluate better, we consider a long only portfolio and compare various statistics against that. Here, see that there were marginal improvements over long only portfolio and thus, a sign of improvements of using sentiment factor as opposed to long only."
   ]
  },
  {
   "cell_type": "code",
   "execution_count": 8,
   "metadata": {},
   "outputs": [],
   "source": [
    "day_grp['Factor'] = day_grp['Positive'].rolling(20).mean()\n",
    "day_grp['Factor'] = (day_grp['Factor'] - 0.4)  # Demeaning Anchor\n",
    "day_grp['Factor'] = day_grp['Factor'].shift(1)  # Applying delay to trade next day\n",
    "day_grp['Signal'] = day_grp['Factor'].apply(lambda x: 1 if x >= 0 else -1) # Buy when factor > 0, Sell when factor < 0"
   ]
  },
  {
   "cell_type": "code",
   "execution_count": 9,
   "metadata": {},
   "outputs": [],
   "source": [
    "day_grp = day_grp.dropna(subset=['Factor'])\n",
    "sf_r = day_grp['Returns']*day_grp['Signal']\n",
    "sp_r = day_grp['Returns']\n",
    "\n",
    "back_test_strat_output = pd.DataFrame(index=['IC', 'Mean (Monthly)', 'Vol (Monthly)', 'SR'],\n",
    "                                      columns=['Sentiment Factor', 'Long Only'])"
   ]
  },
  {
   "cell_type": "code",
   "execution_count": 10,
   "metadata": {},
   "outputs": [],
   "source": [
    "mean_sf = sf_r.mean()*252\n",
    "std_sf = sf_r.std()*sqrt(252)\n",
    "rf = 2./100.\n",
    "sr_sf = (mean_sf - rf)/std_sf\n",
    "\n",
    "back_test_strat_output.loc['IC', 'Sentiment Factor'] = day_grp[['Returns', 'Signal']].corr().iloc[1,0]\n",
    "back_test_strat_output.loc['Mean (Monthly)', 'Sentiment Factor'] = mean_sf/12.\n",
    "back_test_strat_output.loc['Vol (Monthly)', 'Sentiment Factor'] = std_sf/sqrt(12)\n",
    "back_test_strat_output.loc['SR', 'Sentiment Factor'] = sr_sf"
   ]
  },
  {
   "cell_type": "code",
   "execution_count": 11,
   "metadata": {},
   "outputs": [],
   "source": [
    "mean_sp = sp_r.mean()*252\n",
    "std_sp = sp_r.std()*sqrt(252)\n",
    "sr_sp = (mean_sp - rf)/std_sp\n",
    "back_test_strat_output.loc['IC', 'Long Only'] = np.NaN\n",
    "back_test_strat_output.loc['Mean (Monthly)', 'Long Only'] = mean_sp/12.\n",
    "back_test_strat_output.loc['Vol (Monthly)', 'Long Only'] = std_sp/sqrt(12)\n",
    "back_test_strat_output.loc['SR', 'Long Only'] = sr_sp"
   ]
  },
  {
   "cell_type": "code",
   "execution_count": 12,
   "metadata": {},
   "outputs": [
    {
     "data": {
      "text/html": [
       "<div>\n",
       "<style scoped>\n",
       "    .dataframe tbody tr th:only-of-type {\n",
       "        vertical-align: middle;\n",
       "    }\n",
       "\n",
       "    .dataframe tbody tr th {\n",
       "        vertical-align: top;\n",
       "    }\n",
       "\n",
       "    .dataframe thead th {\n",
       "        text-align: right;\n",
       "    }\n",
       "</style>\n",
       "<table border=\"1\" class=\"dataframe\">\n",
       "  <thead>\n",
       "    <tr style=\"text-align: right;\">\n",
       "      <th></th>\n",
       "      <th>Sentiment Factor</th>\n",
       "      <th>Long Only</th>\n",
       "    </tr>\n",
       "  </thead>\n",
       "  <tbody>\n",
       "    <tr>\n",
       "      <th>IC</th>\n",
       "      <td>0.065</td>\n",
       "      <td>NaN</td>\n",
       "    </tr>\n",
       "    <tr>\n",
       "      <th>Mean (Monthly)</th>\n",
       "      <td>0.017</td>\n",
       "      <td>0.015</td>\n",
       "    </tr>\n",
       "    <tr>\n",
       "      <th>Vol (Monthly)</th>\n",
       "      <td>0.035</td>\n",
       "      <td>0.035</td>\n",
       "    </tr>\n",
       "    <tr>\n",
       "      <th>SR</th>\n",
       "      <td>1.535</td>\n",
       "      <td>1.337</td>\n",
       "    </tr>\n",
       "  </tbody>\n",
       "</table>\n",
       "</div>"
      ],
      "text/plain": [
       "               Sentiment Factor Long Only\n",
       "IC                        0.065       NaN\n",
       "Mean (Monthly)            0.017     0.015\n",
       "Vol (Monthly)             0.035     0.035\n",
       "SR                        1.535     1.337"
      ]
     },
     "execution_count": 12,
     "metadata": {},
     "output_type": "execute_result"
    }
   ],
   "source": [
    "pd.options.display.float_format = '{:,.3f}'.format\n",
    "back_test_strat_output = back_test_strat_output.round(2)\n",
    "back_test_strat_output"
   ]
  }
 ],
 "metadata": {
  "kernelspec": {
   "display_name": "Python 3",
   "language": "python",
   "name": "python3"
  },
  "language_info": {
   "codemirror_mode": {
    "name": "ipython",
    "version": 3
   },
   "file_extension": ".py",
   "mimetype": "text/x-python",
   "name": "python",
   "nbconvert_exporter": "python",
   "pygments_lexer": "ipython3",
   "version": "3.7.4"
  }
 },
 "nbformat": 4,
 "nbformat_minor": 2
}
